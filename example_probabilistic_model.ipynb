{
 "cells": [
  {
   "cell_type": "code",
   "execution_count": 1,
   "metadata": {},
   "outputs": [
    {
     "name": "stderr",
     "output_type": "stream",
     "text": [
      "/Users/dany/.local/share/virtualenvs/cuba-digital-lang-9Kd57kqM/lib/python3.9/site-packages/tqdm/auto.py:22: TqdmWarning: IProgress not found. Please update jupyter and ipywidgets. See https://ipywidgets.readthedocs.io/en/stable/user_install.html\n",
      "  from .autonotebook import tqdm as notebook_tqdm\n",
      "[###################################################] precomputing weights 100%\n"
     ]
    }
   ],
   "source": [
    "from src.text_transform import load_text_transform, pretty\n",
    "from src.probabilistic_model import ProbabilisticModel\n",
    "\n",
    "_, hash_map = load_text_transform()\n",
    "model = ProbabilisticModel()\n",
    "model.load_model('dumps')\n",
    "model.computing_independent_values()"
   ]
  },
  {
   "cell_type": "code",
   "execution_count": 2,
   "metadata": {},
   "outputs": [],
   "source": [
    "query = ['revolucion']\n",
    "# index = model.term_to_index['revolucion']\n",
    "\n",
    "# for vector in model.document_w_vector:\n",
    "#     if vector[index] != 0:\n",
    "#         pass\n",
    "\n",
    "result = model.sorted_and_find(query)"
   ]
  },
  {
   "cell_type": "code",
   "execution_count": 3,
   "metadata": {},
   "outputs": [],
   "source": [
    "index = 0"
   ]
  },
  {
   "cell_type": "code",
   "execution_count": 11,
   "metadata": {},
   "outputs": [
    {
     "name": "stdout",
     "output_type": "stream",
     "text": [
      "Ranking #: 8\n",
      "\n",
      "#####################################################################\n",
      "\n",
      "Así se hace Presidente. La vergüenza y la dignidad por encima de todo. Cuba demuestra cada día la fortaleza de la revolución, con actos y con obras y que usted fielmente cumple. Seguimos adelante, con cumbre o sin ella. Viva la \u001b[46mREVOLUCION\u001b[00mCubana.\n"
     ]
    }
   ],
   "source": [
    "text = pretty(query, hash_map[result[index]])[0]\n",
    "\n",
    "print(f'Ranking #: {index + 1}')\n",
    "print(\"\\n#####################################################################\\n\")\n",
    "print(text)\n",
    "index += 1"
   ]
  },
  {
   "cell_type": "code",
   "execution_count": null,
   "metadata": {},
   "outputs": [],
   "source": []
  }
 ],
 "metadata": {
  "kernelspec": {
   "display_name": "Python 3.9.10 ('cuba-digital-lang-9Kd57kqM')",
   "language": "python",
   "name": "python3"
  },
  "language_info": {
   "codemirror_mode": {
    "name": "ipython",
    "version": 3
   },
   "file_extension": ".py",
   "mimetype": "text/x-python",
   "name": "python",
   "nbconvert_exporter": "python",
   "pygments_lexer": "ipython3",
   "version": "3.9.10"
  },
  "orig_nbformat": 4,
  "vscode": {
   "interpreter": {
    "hash": "603d3262a7e4ed4b0851c01fdb7ddd10a0cced451adaee2bc5b3533b94fd096e"
   }
  }
 },
 "nbformat": 4,
 "nbformat_minor": 2
}
