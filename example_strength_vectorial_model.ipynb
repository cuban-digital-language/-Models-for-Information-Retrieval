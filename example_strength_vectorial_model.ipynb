{
 "cells": [
  {
   "cell_type": "code",
   "execution_count": 11,
   "metadata": {},
   "outputs": [],
   "source": [
    "from src.vectorial_model import VectorialModel\n",
    "from src.text_transform import load_text_transform, pretty\n",
    "from src.strength_thesaurus import StrengthThesaurus, print_expansion\n",
    "\n",
    "_, hash_map = load_text_transform()\n",
    "\n",
    "model = VectorialModel()\n",
    "model.load_model('dumps')\n",
    "\n",
    "thesaurus = StrengthThesaurus(alpha=0.7)\n",
    "thesaurus.load_model('dumps')"
   ]
  },
  {
   "cell_type": "code",
   "execution_count": 12,
   "metadata": {},
   "outputs": [
    {
     "name": "stderr",
     "output_type": "stream",
     "text": [
      "[###################################################] expansion revolucion 100%\n"
     ]
    },
    {
     "name": "stdout",
     "output_type": "stream",
     "text": [
      "revolucion plaza de la revolucion "
     ]
    }
   ],
   "source": [
    "query = ['revolucion']\n",
    "\n",
    "query = thesaurus.expansion_query(query)\n",
    "print_expansion(query)"
   ]
  },
  {
   "cell_type": "code",
   "execution_count": 13,
   "metadata": {},
   "outputs": [],
   "source": [
    "result = model.get_ranking(query)"
   ]
  },
  {
   "cell_type": "code",
   "execution_count": 14,
   "metadata": {},
   "outputs": [],
   "source": [
    "index = 0"
   ]
  },
  {
   "cell_type": "code",
   "execution_count": 15,
   "metadata": {},
   "outputs": [
    {
     "name": "stdout",
     "output_type": "stream",
     "text": [
      "Ranking #: 1\n",
      "\n",
      "#####################################################################\n",
      "\n",
      "No entiendo porque no se le exige a los turistas el uso de nasobucos en la ciudad, \u001b[46mplaza de la revolucion\u001b[00mes un de los municipios con mas casos, vivo en este municipio y veo por las calles los turistas sin nasobuco y las autoridades no le dicen nada, entonces de que cumplimiento de medidas estamos hablando???? muchas gracias\n"
     ]
    }
   ],
   "source": [
    "text = pretty(query, hash_map[result[index]])[0]\n",
    "\n",
    "print(f'Ranking #: {index + 1}')\n",
    "print(\"\\n#####################################################################\\n\")\n",
    "print(text)\n",
    "index += 1"
   ]
  },
  {
   "cell_type": "code",
   "execution_count": null,
   "metadata": {},
   "outputs": [],
   "source": [
    "query = ['revolucion']\n",
    "\n",
    "thesaurus.alpha = 0.5\n",
    "query = thesaurus.expansion_query(query)\n",
    "print_expansion(query)"
   ]
  },
  {
   "cell_type": "code",
   "execution_count": null,
   "metadata": {},
   "outputs": [],
   "source": []
  }
 ],
 "metadata": {
  "kernelspec": {
   "display_name": "Python 3.9.10 ('cuba-digital-lang-9Kd57kqM')",
   "language": "python",
   "name": "python3"
  },
  "language_info": {
   "codemirror_mode": {
    "name": "ipython",
    "version": 3
   },
   "file_extension": ".py",
   "mimetype": "text/x-python",
   "name": "python",
   "nbconvert_exporter": "python",
   "pygments_lexer": "ipython3",
   "version": "3.9.10"
  },
  "orig_nbformat": 4,
  "vscode": {
   "interpreter": {
    "hash": "603d3262a7e4ed4b0851c01fdb7ddd10a0cced451adaee2bc5b3533b94fd096e"
   }
  }
 },
 "nbformat": 4,
 "nbformat_minor": 2
}
